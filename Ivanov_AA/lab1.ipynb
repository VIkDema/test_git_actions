{
 "cells": [
  {
   "cell_type": "markdown",
   "id": "b6fd2699",
   "metadata": {},
   "source": [
    "# Цель работы\n",
    "\n",
    "Нет номера лабы в названии файла/папки"
   ]
  },
  {
   "cell_type": "markdown",
   "id": "06ff6d52",
   "metadata": {},
   "source": [
    "# Основные теоретические положения\n",
    "\n",
    "Таким образом, социально-экономическое развитие в значительной степени обуславливает создание всесторонне сбалансированных нововведений. "
   ]
  },
  {
   "cell_type": "markdown",
   "id": "798e1743",
   "metadata": {},
   "source": [
    "# Постановка задачи\n",
    "\n",
    "Таким образом, социально-экономическое развитие в значительной степени обуславливает создание всесторонне сбалансированных нововведений. "
   ]
  },
  {
   "cell_type": "markdown",
   "id": "88a21b43",
   "metadata": {},
   "source": [
    "# Выводы\n",
    "\n",
    "Таким образом, социально-экономическое развитие в значительной степени обуславливает создание всесторонне сбалансированных нововведений. "
   ]
  },
  {
   "cell_type": "code",
   "execution_count": null,
   "id": "25ca221e",
   "metadata": {},
   "outputs": [],
   "source": []
  }
 ],
 "metadata": {
  "kernelspec": {
   "display_name": "Python 3 (ipykernel)",
   "language": "python",
   "name": "python3"
  },
  "language_info": {
   "codemirror_mode": {
    "name": "ipython",
    "version": 3
   },
   "file_extension": ".py",
   "mimetype": "text/x-python",
   "name": "python",
   "nbconvert_exporter": "python",
   "pygments_lexer": "ipython3",
   "version": "3.8.10"
  }
 },
 "nbformat": 4,
 "nbformat_minor": 5
}
