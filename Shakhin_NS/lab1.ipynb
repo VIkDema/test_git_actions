{
 "cells": [
  {
   "cell_type": "markdown",
   "id": "b6fd2699",
   "metadata": {},
   "source": [
    "# Цель работы\n",
    "\n",
    "Все пункты в разных ячейках"
   ]
  },
  {
   "cell_type": "markdown",
   "id": "582f17b3",
   "metadata": {},
   "source": [
    "# Основные теоретические положения\n",
    "\n",
    "Таким образом, социально-экономическое развитие в значительной степени обуславливает создание всесторонне сбалансированных нововведений. "
   ]
  },
  {
   "cell_type": "markdown",
   "id": "c42d3b74",
   "metadata": {},
   "source": [
    "# Постановка задачи\n",
    "\n",
    "Таким образом, социально-экономическое развитие в значительной степени обуславливает создание всесторонне сбалансированных нововведений. "
   ]
  },
  {
   "cell_type": "markdown",
   "id": "2015780a",
   "metadata": {},
   "source": [
    "# Выполнение работы\n",
    "\n",
    "Таким образом, социально-экономическое развитие в значительной степени обуславливает создание всесторонне сбалансированных нововведений. "
   ]
  },
  {
   "cell_type": "markdown",
   "id": "1c5ee7a7",
   "metadata": {},
   "source": [
    "# Выводы\n",
    "\n",
    "Таким образом, социально-экономическое развитие в значительной степени обуславливает создание всесторонне сбалансированных нововведений. "
   ]
  },
  {
   "cell_type": "code",
   "execution_count": null,
   "id": "6742f4ad",
   "metadata": {},
   "outputs": [],
   "source": []
  }
 ],
 "metadata": {
  "kernelspec": {
   "display_name": "Python 3 (ipykernel)",
   "language": "python",
   "name": "python3"
  },
  "language_info": {
   "codemirror_mode": {
    "name": "ipython",
    "version": 3
   },
   "file_extension": ".py",
   "mimetype": "text/x-python",
   "name": "python",
   "nbconvert_exporter": "python",
   "pygments_lexer": "ipython3",
   "version": "3.8.10"
  }
 },
 "nbformat": 4,
 "nbformat_minor": 5
}
